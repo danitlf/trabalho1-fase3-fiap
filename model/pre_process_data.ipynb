{
 "cells": [
  {
   "cell_type": "code",
   "execution_count": 35,
   "id": "8a0a1cc2-2f12-4734-ad9c-d01ded54c127",
   "metadata": {},
   "outputs": [],
   "source": [
    "import pandas as pd\n",
    "import numpy as np"
   ]
  },
  {
   "cell_type": "code",
   "execution_count": 36,
   "id": "de30451c-c728-4fc0-bec7-84109ee393d8",
   "metadata": {},
   "outputs": [],
   "source": [
    "import json\n",
    "import os\n",
    "\n",
    "# Define o caminho do arquivo JSON\n",
    "filepath = './dados.json'\n",
    "dados = None\n",
    "\n",
    "# Verifica se o arquivo existe antes de tentar lê-lo\n",
    "if os.path.exists(filepath):\n",
    "    try:\n",
    "        # Abre o arquivo em modo de leitura ('r')\n",
    "        with open(filepath, 'r', encoding='utf-8') as f:\n",
    "            # Carrega o conteúdo do arquivo JSON para um dicionário Python\n",
    "            dados = json.load(f)\n",
    "\n",
    "\n",
    "    except json.JSONDecodeError as e:\n",
    "        print(f\"Erro ao decodificar o JSON: {e}\")\n",
    "    except Exception as e:\n",
    "        print(f\"Ocorreu um erro inesperado: {e}\")\n",
    "else:\n",
    "    print(f\"Erro: O arquivo '{filepath}' não foi encontrado.\")"
   ]
  },
  {
   "cell_type": "code",
   "execution_count": 37,
   "id": "04bfa6ad-ea99-4fce-bd71-78d67c2c36fd",
   "metadata": {},
   "outputs": [
    {
     "data": {
      "text/plain": [
       "1710"
      ]
     },
     "execution_count": 37,
     "metadata": {},
     "output_type": "execute_result"
    }
   ],
   "source": [
    "len(dados)"
   ]
  },
  {
   "cell_type": "code",
   "execution_count": 38,
   "id": "4ac8efeb-97a9-450f-a6a1-64d13a07ae5c",
   "metadata": {},
   "outputs": [],
   "source": [
    "df = pd.json_normalize(dados)\n"
   ]
  },
  {
   "cell_type": "code",
   "execution_count": 39,
   "id": "9b77cf04-9eb1-4e84-aa4e-b759b9d5a61b",
   "metadata": {},
   "outputs": [
    {
     "data": {
      "text/html": [
       "<div>\n",
       "<style scoped>\n",
       "    .dataframe tbody tr th:only-of-type {\n",
       "        vertical-align: middle;\n",
       "    }\n",
       "\n",
       "    .dataframe tbody tr th {\n",
       "        vertical-align: top;\n",
       "    }\n",
       "\n",
       "    .dataframe thead th {\n",
       "        text-align: right;\n",
       "    }\n",
       "</style>\n",
       "<table border=\"1\" class=\"dataframe\">\n",
       "  <thead>\n",
       "    <tr style=\"text-align: right;\">\n",
       "      <th></th>\n",
       "      <th>valor</th>\n",
       "      <th>id</th>\n",
       "      <th>timestamp</th>\n",
       "      <th>sensor.id</th>\n",
       "      <th>sensor.nome</th>\n",
       "    </tr>\n",
       "  </thead>\n",
       "  <tbody>\n",
       "    <tr>\n",
       "      <th>0</th>\n",
       "      <td>99.038863</td>\n",
       "      <td>1710</td>\n",
       "      <td>2025-06-11T01:48:58.929921</td>\n",
       "      <td>5</td>\n",
       "      <td>sensor_k</td>\n",
       "    </tr>\n",
       "    <tr>\n",
       "      <th>1</th>\n",
       "      <td>42.299256</td>\n",
       "      <td>1709</td>\n",
       "      <td>2025-06-11T01:48:58.919727</td>\n",
       "      <td>4</td>\n",
       "      <td>sensor_p</td>\n",
       "    </tr>\n",
       "    <tr>\n",
       "      <th>2</th>\n",
       "      <td>13.062344</td>\n",
       "      <td>1708</td>\n",
       "      <td>2025-06-11T01:48:58.909831</td>\n",
       "      <td>3</td>\n",
       "      <td>sensor_ph</td>\n",
       "    </tr>\n",
       "    <tr>\n",
       "      <th>3</th>\n",
       "      <td>21.936602</td>\n",
       "      <td>1707</td>\n",
       "      <td>2025-06-11T01:48:58.882791</td>\n",
       "      <td>2</td>\n",
       "      <td>sensor_humidity</td>\n",
       "    </tr>\n",
       "    <tr>\n",
       "      <th>4</th>\n",
       "      <td>87.080089</td>\n",
       "      <td>1706</td>\n",
       "      <td>2025-06-11T01:48:58.865412</td>\n",
       "      <td>1</td>\n",
       "      <td>sensor_temperature</td>\n",
       "    </tr>\n",
       "    <tr>\n",
       "      <th>...</th>\n",
       "      <td>...</td>\n",
       "      <td>...</td>\n",
       "      <td>...</td>\n",
       "      <td>...</td>\n",
       "      <td>...</td>\n",
       "    </tr>\n",
       "    <tr>\n",
       "      <th>1705</th>\n",
       "      <td>23.764496</td>\n",
       "      <td>5</td>\n",
       "      <td>2025-05-20T00:27:44.875620</td>\n",
       "      <td>5</td>\n",
       "      <td>sensor_k</td>\n",
       "    </tr>\n",
       "    <tr>\n",
       "      <th>1706</th>\n",
       "      <td>19.326224</td>\n",
       "      <td>4</td>\n",
       "      <td>2025-05-20T00:27:44.871385</td>\n",
       "      <td>4</td>\n",
       "      <td>sensor_p</td>\n",
       "    </tr>\n",
       "    <tr>\n",
       "      <th>1707</th>\n",
       "      <td>5.198631</td>\n",
       "      <td>3</td>\n",
       "      <td>2025-05-20T00:27:44.866688</td>\n",
       "      <td>3</td>\n",
       "      <td>sensor_ph</td>\n",
       "    </tr>\n",
       "    <tr>\n",
       "      <th>1708</th>\n",
       "      <td>24.014174</td>\n",
       "      <td>2</td>\n",
       "      <td>2025-05-20T00:27:44.861143</td>\n",
       "      <td>2</td>\n",
       "      <td>sensor_humidity</td>\n",
       "    </tr>\n",
       "    <tr>\n",
       "      <th>1709</th>\n",
       "      <td>68.215034</td>\n",
       "      <td>1</td>\n",
       "      <td>2025-05-20T00:27:44.847980</td>\n",
       "      <td>1</td>\n",
       "      <td>sensor_temperature</td>\n",
       "    </tr>\n",
       "  </tbody>\n",
       "</table>\n",
       "<p>1710 rows × 5 columns</p>\n",
       "</div>"
      ],
      "text/plain": [
       "          valor    id                   timestamp  sensor.id  \\\n",
       "0     99.038863  1710  2025-06-11T01:48:58.929921          5   \n",
       "1     42.299256  1709  2025-06-11T01:48:58.919727          4   \n",
       "2     13.062344  1708  2025-06-11T01:48:58.909831          3   \n",
       "3     21.936602  1707  2025-06-11T01:48:58.882791          2   \n",
       "4     87.080089  1706  2025-06-11T01:48:58.865412          1   \n",
       "...         ...   ...                         ...        ...   \n",
       "1705  23.764496     5  2025-05-20T00:27:44.875620          5   \n",
       "1706  19.326224     4  2025-05-20T00:27:44.871385          4   \n",
       "1707   5.198631     3  2025-05-20T00:27:44.866688          3   \n",
       "1708  24.014174     2  2025-05-20T00:27:44.861143          2   \n",
       "1709  68.215034     1  2025-05-20T00:27:44.847980          1   \n",
       "\n",
       "             sensor.nome  \n",
       "0               sensor_k  \n",
       "1               sensor_p  \n",
       "2              sensor_ph  \n",
       "3        sensor_humidity  \n",
       "4     sensor_temperature  \n",
       "...                  ...  \n",
       "1705            sensor_k  \n",
       "1706            sensor_p  \n",
       "1707           sensor_ph  \n",
       "1708     sensor_humidity  \n",
       "1709  sensor_temperature  \n",
       "\n",
       "[1710 rows x 5 columns]"
      ]
     },
     "execution_count": 39,
     "metadata": {},
     "output_type": "execute_result"
    }
   ],
   "source": [
    "df"
   ]
  },
  {
   "cell_type": "code",
   "execution_count": 40,
   "id": "e7d6d47a-69f0-4510-bf6b-bd951be65b6c",
   "metadata": {},
   "outputs": [],
   "source": [
    "df.to_csv(\"./dados.csv\")"
   ]
  },
  {
   "cell_type": "code",
   "execution_count": 41,
   "id": "f9187595-3b43-4a7a-beb2-d1578a78281a",
   "metadata": {},
   "outputs": [
    {
     "name": "stdout",
     "output_type": "stream",
     "text": [
      "DataFrame com Status e Motivo:\n",
      "sensor_nome          sensor_humidity   sensor_k   sensor_p  sensor_ph  \\\n",
      "timestamp                                                               \n",
      "2025-05-20 00:27:44        24.014174  23.764496  19.326224   5.198631   \n",
      "2025-05-20 00:27:45        11.102870  96.249995  19.184553   7.271486   \n",
      "2025-05-20 00:27:46        76.252779   6.311321  69.251505   6.438823   \n",
      "2025-05-20 00:27:47        65.164521   6.311321  69.251505   6.438823   \n",
      "2025-05-20 00:27:48        65.164521   6.109431  40.865383   5.432344   \n",
      "\n",
      "sensor_nome          sensor_temperature  target  \\\n",
      "timestamp                                         \n",
      "2025-05-20 00:27:44           68.215034       0   \n",
      "2025-05-20 00:27:45           60.135394       1   \n",
      "2025-05-20 00:27:46           58.053577       0   \n",
      "2025-05-20 00:27:47           22.088025       0   \n",
      "2025-05-20 00:27:48           22.088025       0   \n",
      "\n",
      "sensor_nome                                              motivo  \n",
      "timestamp                                                        \n",
      "2025-05-20 00:27:44                                              \n",
      "2025-05-20 00:27:45  pH > 7, Temperatura > 30°C e Umidade < 50%  \n",
      "2025-05-20 00:27:46                                              \n",
      "2025-05-20 00:27:47                                              \n",
      "2025-05-20 00:27:48                                              \n",
      "\n",
      "Arquivo 'dados_sensores_com_status.csv' salvo com sucesso!\n"
     ]
    }
   ],
   "source": [
    "# Criar o DataFrame inicial\n",
    "df = df.rename(columns={'id': 'leitura_id', 'sensor.id': 'sensor_id', 'sensor.nome': 'sensor_nome'})\n",
    "\n",
    "# 2. Transformar o DataFrame\n",
    "# Converter a coluna de timestamp para o formato de data/hora\n",
    "df['timestamp'] = pd.to_datetime(df['timestamp'])\n",
    "\n",
    "# Pivotar a tabela para que os sensores virem colunas\n",
    "df_pivot = df.pivot_table(index='timestamp', columns='sensor_nome', values='valor')\n",
    "\n",
    "# Agrupar as leituras por segundo (pegando a última de cada segundo) e preencher valores ausentes\n",
    "df_wide = df_pivot.resample('1S').last().ffill().bfill()\n",
    "\n",
    "# 3. Aplicar a lógica para criar a coluna de status\n",
    "# Definir as condições com base nos comentários do seu código\n",
    "condicoes = (\n",
    "    (df_wide['sensor_ph'] > 7) &\n",
    "    (df_wide['sensor_temperature'] > 30) &\n",
    "    (df_wide['sensor_humidity'] < 50)\n",
    ")\n",
    "\n",
    "# Criar a coluna 'status': 1 para HIGH (condição verdadeira), 0 para LOW (falsa)\n",
    "df_wide['target'] = np.where(condicoes, 1, 0)\n",
    "\n",
    "# Criar a coluna 'motivo'\n",
    "motivo_texto = \"pH > 7, Temperatura > 30°C e Umidade < 50%\"\n",
    "df_wide['motivo'] = np.where(condicoes, motivo_texto, \"\")\n",
    "\n",
    "\n",
    "# 4. Exibir o resultado e salvar em um novo CSV\n",
    "print(\"DataFrame com Status e Motivo:\")\n",
    "print(df_wide.head())\n",
    "# save balanced dataset\n",
    "df_wide = df_wide[1000000:]\n",
    "# Salvar o novo dataframe em um arquivo CSV\n",
    "output_filename = 'dados_sensores_com_status.csv'\n",
    "df_wide.to_csv(output_filename, sep=',', encoding='utf-8-sig')\n",
    "\n",
    "print(f\"\\nArquivo '{output_filename}' salvo com sucesso!\")"
   ]
  },
  {
   "cell_type": "code",
   "execution_count": 44,
   "id": "e1daa326-8cc4-471e-964f-2735bd8d9ae5",
   "metadata": {},
   "outputs": [
    {
     "data": {
      "text/plain": [
       "target\n",
       "1    900978\n",
       "0      4697\n",
       "Name: count, dtype: int64"
      ]
     },
     "execution_count": 44,
     "metadata": {},
     "output_type": "execute_result"
    }
   ],
   "source": [
    "df_wide[\"target\"].value_counts()"
   ]
  },
  {
   "cell_type": "code",
   "execution_count": null,
   "id": "2f4b0f78-5a7d-4df8-92b5-864e14d370f9",
   "metadata": {},
   "outputs": [],
   "source": []
  },
  {
   "cell_type": "code",
   "execution_count": null,
   "id": "15209a21-7962-49bb-a09d-f158b2b0b90f",
   "metadata": {},
   "outputs": [],
   "source": []
  }
 ],
 "metadata": {
  "kernelspec": {
   "display_name": "Python 3",
   "language": "python",
   "name": "python3"
  },
  "language_info": {
   "codemirror_mode": {
    "name": "ipython",
    "version": 3
   },
   "file_extension": ".py",
   "mimetype": "text/x-python",
   "name": "python",
   "nbconvert_exporter": "python",
   "pygments_lexer": "ipython3",
   "version": "3.11.5"
  }
 },
 "nbformat": 4,
 "nbformat_minor": 5
}
